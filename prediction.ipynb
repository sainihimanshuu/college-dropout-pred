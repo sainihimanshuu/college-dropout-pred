{
 "cells": [
  {
   "cell_type": "code",
   "execution_count": 1,
   "id": "8d3dadcd",
   "metadata": {},
   "outputs": [
    {
     "name": "stdout",
     "output_type": "stream",
     "text": [
      "WARNING:tensorflow:From c:\\Users\\KIIT\\AppData\\Local\\Programs\\Python\\Python311\\Lib\\site-packages\\keras\\src\\losses.py:2976: The name tf.losses.sparse_softmax_cross_entropy is deprecated. Please use tf.compat.v1.losses.sparse_softmax_cross_entropy instead.\n",
      "\n"
     ]
    }
   ],
   "source": [
    "import numpy as np\n",
    "import pandas as pd\n",
    "import tensorflow as tf\n",
    "from sklearn import preprocessing\n",
    "from sklearn.model_selection import train_test_split\n",
    "import matplotlib.pyplot as plt\n",
    "import keras\n",
    "#import keras_tuner as kt\n",
    "#from keras import regularizers"
   ]
  },
  {
   "cell_type": "code",
   "execution_count": 2,
   "id": "dc0c01b2",
   "metadata": {},
   "outputs": [],
   "source": [
    "df = pd.read_csv(r\"C:\\Users\\KIIT\\Desktop\\data.csv\", sep=\";\")"
   ]
  },
  {
   "cell_type": "code",
   "execution_count": 3,
   "id": "0a0cd956",
   "metadata": {},
   "outputs": [],
   "source": [
    "X_train = df.iloc[:,:36]\n",
    "y_train = df.iloc[:, 36]\n",
    "scaler = preprocessing.StandardScaler().fit(X_train)"
   ]
  },
  {
   "cell_type": "code",
   "execution_count": 4,
   "id": "48ac96d2",
   "metadata": {},
   "outputs": [],
   "source": [
    "X = scaler.transform(X_train)"
   ]
  },
  {
   "cell_type": "code",
   "execution_count": 5,
   "id": "918a7f55",
   "metadata": {},
   "outputs": [],
   "source": [
    "y = y_train.replace(to_replace=[\"Dropout\",\"Graduate\", \"Enrolled\"], value=[1,0,0])"
   ]
  },
  {
   "cell_type": "code",
   "execution_count": 6,
   "id": "eaa89604",
   "metadata": {},
   "outputs": [
    {
     "data": {
      "text/plain": [
       "(array([0, 1], dtype=int64), array([3003, 1421], dtype=int64))"
      ]
     },
     "execution_count": 6,
     "metadata": {},
     "output_type": "execute_result"
    }
   ],
   "source": [
    "np.unique(y, return_counts=True)"
   ]
  },
  {
   "cell_type": "code",
   "execution_count": 7,
   "id": "b819c18e",
   "metadata": {},
   "outputs": [],
   "source": [
    "X_train, X_test, y_train, y_test = train_test_split(X, y, test_size=0.40, random_state=42)"
   ]
  },
  {
   "cell_type": "code",
   "execution_count": 8,
   "id": "bdf95263",
   "metadata": {},
   "outputs": [],
   "source": [
    "X_test, X_cv, y_test, y_cv = train_test_split(X_test, y_test, test_size=0.50, random_state=42)"
   ]
  },
  {
   "cell_type": "code",
   "execution_count": 9,
   "id": "5775f50a",
   "metadata": {},
   "outputs": [
    {
     "name": "stdout",
     "output_type": "stream",
     "text": [
      "WARNING:tensorflow:From c:\\Users\\KIIT\\AppData\\Local\\Programs\\Python\\Python311\\Lib\\site-packages\\keras\\src\\backend.py:873: The name tf.get_default_graph is deprecated. Please use tf.compat.v1.get_default_graph instead.\n",
      "\n"
     ]
    }
   ],
   "source": [
    "model = keras.Sequential([\n",
    "    keras.layers.Dense(64, activation='relu'),\n",
    "    keras.layers.Dense(32, activation='relu'),\n",
    "    keras.layers.Dense(15, activation='relu'),\n",
    "    keras.layers.Dense(1, activation='sigmoid'),\n",
    "])"
   ]
  },
  {
   "cell_type": "code",
   "execution_count": 10,
   "id": "643632df",
   "metadata": {},
   "outputs": [],
   "source": [
    "model.compile(loss=keras.losses.BinaryCrossentropy(), optimizer=keras.optimizers.SGD(learning_rate=0.003), metrics=[\"accuracy\"])"
   ]
  },
  {
   "cell_type": "code",
   "execution_count": 11,
   "id": "aa2ae1a6",
   "metadata": {},
   "outputs": [
    {
     "name": "stdout",
     "output_type": "stream",
     "text": [
      "Epoch 1/100\n",
      "WARNING:tensorflow:From c:\\Users\\KIIT\\AppData\\Local\\Programs\\Python\\Python311\\Lib\\site-packages\\keras\\src\\utils\\tf_utils.py:492: The name tf.ragged.RaggedTensorValue is deprecated. Please use tf.compat.v1.ragged.RaggedTensorValue instead.\n",
      "\n",
      "WARNING:tensorflow:From c:\\Users\\KIIT\\AppData\\Local\\Programs\\Python\\Python311\\Lib\\site-packages\\keras\\src\\engine\\base_layer_utils.py:384: The name tf.executing_eagerly_outside_functions is deprecated. Please use tf.compat.v1.executing_eagerly_outside_functions instead.\n",
      "\n",
      "83/83 [==============================] - 1s 3ms/step - loss: 0.7069 - accuracy: 0.5629 - val_loss: 0.6948 - val_accuracy: 0.6090\n",
      "Epoch 2/100\n",
      "83/83 [==============================] - 0s 2ms/step - loss: 0.6670 - accuracy: 0.6549 - val_loss: 0.6625 - val_accuracy: 0.6667\n",
      "Epoch 3/100\n",
      "83/83 [==============================] - 0s 2ms/step - loss: 0.6346 - accuracy: 0.6937 - val_loss: 0.6353 - val_accuracy: 0.6893\n",
      "Epoch 4/100\n",
      "83/83 [==============================] - 0s 2ms/step - loss: 0.6067 - accuracy: 0.7174 - val_loss: 0.6109 - val_accuracy: 0.7006\n",
      "Epoch 5/100\n",
      "83/83 [==============================] - 0s 2ms/step - loss: 0.5809 - accuracy: 0.7366 - val_loss: 0.5878 - val_accuracy: 0.7175\n",
      "Epoch 6/100\n",
      "83/83 [==============================] - 0s 2ms/step - loss: 0.5568 - accuracy: 0.7494 - val_loss: 0.5655 - val_accuracy: 0.7333\n",
      "Epoch 7/100\n",
      "83/83 [==============================] - 0s 2ms/step - loss: 0.5340 - accuracy: 0.7687 - val_loss: 0.5437 - val_accuracy: 0.7514\n",
      "Epoch 8/100\n",
      "83/83 [==============================] - 0s 2ms/step - loss: 0.5122 - accuracy: 0.7856 - val_loss: 0.5228 - val_accuracy: 0.7695\n",
      "Epoch 9/100\n",
      "83/83 [==============================] - 0s 2ms/step - loss: 0.4915 - accuracy: 0.7995 - val_loss: 0.5032 - val_accuracy: 0.7876\n",
      "Epoch 10/100\n",
      "83/83 [==============================] - 0s 2ms/step - loss: 0.4723 - accuracy: 0.8082 - val_loss: 0.4844 - val_accuracy: 0.8034\n",
      "Epoch 11/100\n",
      "83/83 [==============================] - 0s 2ms/step - loss: 0.4544 - accuracy: 0.8233 - val_loss: 0.4675 - val_accuracy: 0.8136\n",
      "Epoch 12/100\n",
      "83/83 [==============================] - 0s 2ms/step - loss: 0.4383 - accuracy: 0.8297 - val_loss: 0.4521 - val_accuracy: 0.8192\n",
      "Epoch 13/100\n",
      "83/83 [==============================] - 0s 2ms/step - loss: 0.4237 - accuracy: 0.8361 - val_loss: 0.4382 - val_accuracy: 0.8271\n",
      "Epoch 14/100\n",
      "83/83 [==============================] - 0s 2ms/step - loss: 0.4106 - accuracy: 0.8406 - val_loss: 0.4258 - val_accuracy: 0.8305\n",
      "Epoch 15/100\n",
      "83/83 [==============================] - 0s 2ms/step - loss: 0.3989 - accuracy: 0.8425 - val_loss: 0.4149 - val_accuracy: 0.8362\n",
      "Epoch 16/100\n",
      "83/83 [==============================] - 0s 2ms/step - loss: 0.3886 - accuracy: 0.8451 - val_loss: 0.4053 - val_accuracy: 0.8362\n",
      "Epoch 17/100\n",
      "83/83 [==============================] - 0s 2ms/step - loss: 0.3795 - accuracy: 0.8482 - val_loss: 0.3968 - val_accuracy: 0.8407\n",
      "Epoch 18/100\n",
      "83/83 [==============================] - 0s 2ms/step - loss: 0.3714 - accuracy: 0.8493 - val_loss: 0.3896 - val_accuracy: 0.8441\n",
      "Epoch 19/100\n",
      "83/83 [==============================] - 0s 2ms/step - loss: 0.3644 - accuracy: 0.8523 - val_loss: 0.3831 - val_accuracy: 0.8452\n",
      "Epoch 20/100\n",
      "83/83 [==============================] - 0s 2ms/step - loss: 0.3582 - accuracy: 0.8531 - val_loss: 0.3776 - val_accuracy: 0.8475\n",
      "Epoch 21/100\n",
      "83/83 [==============================] - 0s 2ms/step - loss: 0.3527 - accuracy: 0.8564 - val_loss: 0.3728 - val_accuracy: 0.8497\n",
      "Epoch 22/100\n",
      "83/83 [==============================] - 0s 2ms/step - loss: 0.3479 - accuracy: 0.8580 - val_loss: 0.3687 - val_accuracy: 0.8508\n",
      "Epoch 23/100\n",
      "83/83 [==============================] - 0s 2ms/step - loss: 0.3436 - accuracy: 0.8598 - val_loss: 0.3651 - val_accuracy: 0.8542\n",
      "Epoch 24/100\n",
      "83/83 [==============================] - 0s 2ms/step - loss: 0.3397 - accuracy: 0.8610 - val_loss: 0.3619 - val_accuracy: 0.8576\n",
      "Epoch 25/100\n",
      "83/83 [==============================] - 0s 2ms/step - loss: 0.3363 - accuracy: 0.8625 - val_loss: 0.3592 - val_accuracy: 0.8599\n",
      "Epoch 26/100\n",
      "83/83 [==============================] - 0s 2ms/step - loss: 0.3331 - accuracy: 0.8651 - val_loss: 0.3569 - val_accuracy: 0.8621\n",
      "Epoch 27/100\n",
      "83/83 [==============================] - 0s 2ms/step - loss: 0.3303 - accuracy: 0.8666 - val_loss: 0.3548 - val_accuracy: 0.8655\n",
      "Epoch 28/100\n",
      "83/83 [==============================] - 0s 2ms/step - loss: 0.3277 - accuracy: 0.8674 - val_loss: 0.3531 - val_accuracy: 0.8678\n",
      "Epoch 29/100\n",
      "83/83 [==============================] - 0s 2ms/step - loss: 0.3254 - accuracy: 0.8677 - val_loss: 0.3514 - val_accuracy: 0.8678\n",
      "Epoch 30/100\n",
      "83/83 [==============================] - 0s 2ms/step - loss: 0.3232 - accuracy: 0.8693 - val_loss: 0.3500 - val_accuracy: 0.8712\n",
      "Epoch 31/100\n",
      "83/83 [==============================] - 0s 2ms/step - loss: 0.3212 - accuracy: 0.8700 - val_loss: 0.3487 - val_accuracy: 0.8712\n",
      "Epoch 32/100\n",
      "83/83 [==============================] - 0s 2ms/step - loss: 0.3193 - accuracy: 0.8708 - val_loss: 0.3475 - val_accuracy: 0.8734\n",
      "Epoch 33/100\n",
      "83/83 [==============================] - 0s 2ms/step - loss: 0.3176 - accuracy: 0.8708 - val_loss: 0.3464 - val_accuracy: 0.8723\n",
      "Epoch 34/100\n",
      "83/83 [==============================] - 0s 2ms/step - loss: 0.3159 - accuracy: 0.8726 - val_loss: 0.3456 - val_accuracy: 0.8723\n",
      "Epoch 35/100\n",
      "83/83 [==============================] - 0s 2ms/step - loss: 0.3143 - accuracy: 0.8711 - val_loss: 0.3447 - val_accuracy: 0.8757\n",
      "Epoch 36/100\n",
      "83/83 [==============================] - 0s 2ms/step - loss: 0.3129 - accuracy: 0.8711 - val_loss: 0.3440 - val_accuracy: 0.8746\n",
      "Epoch 37/100\n",
      "83/83 [==============================] - 0s 2ms/step - loss: 0.3116 - accuracy: 0.8700 - val_loss: 0.3432 - val_accuracy: 0.8768\n",
      "Epoch 38/100\n",
      "83/83 [==============================] - 0s 2ms/step - loss: 0.3103 - accuracy: 0.8730 - val_loss: 0.3427 - val_accuracy: 0.8746\n",
      "Epoch 39/100\n",
      "83/83 [==============================] - 0s 2ms/step - loss: 0.3090 - accuracy: 0.8730 - val_loss: 0.3421 - val_accuracy: 0.8746\n",
      "Epoch 40/100\n",
      "83/83 [==============================] - 0s 2ms/step - loss: 0.3079 - accuracy: 0.8734 - val_loss: 0.3416 - val_accuracy: 0.8734\n",
      "Epoch 41/100\n",
      "83/83 [==============================] - 0s 2ms/step - loss: 0.3066 - accuracy: 0.8757 - val_loss: 0.3412 - val_accuracy: 0.8768\n",
      "Epoch 42/100\n",
      "83/83 [==============================] - 0s 2ms/step - loss: 0.3056 - accuracy: 0.8745 - val_loss: 0.3406 - val_accuracy: 0.8780\n",
      "Epoch 43/100\n",
      "83/83 [==============================] - 0s 2ms/step - loss: 0.3045 - accuracy: 0.8742 - val_loss: 0.3403 - val_accuracy: 0.8768\n",
      "Epoch 44/100\n",
      "83/83 [==============================] - 0s 2ms/step - loss: 0.3035 - accuracy: 0.8753 - val_loss: 0.3398 - val_accuracy: 0.8780\n",
      "Epoch 45/100\n",
      "83/83 [==============================] - 0s 2ms/step - loss: 0.3026 - accuracy: 0.8760 - val_loss: 0.3396 - val_accuracy: 0.8791\n",
      "Epoch 46/100\n",
      "83/83 [==============================] - 0s 1ms/step - loss: 0.3016 - accuracy: 0.8768 - val_loss: 0.3393 - val_accuracy: 0.8791\n",
      "Epoch 47/100\n",
      "83/83 [==============================] - 0s 2ms/step - loss: 0.3007 - accuracy: 0.8757 - val_loss: 0.3390 - val_accuracy: 0.8791\n",
      "Epoch 48/100\n",
      "83/83 [==============================] - 0s 2ms/step - loss: 0.2998 - accuracy: 0.8768 - val_loss: 0.3388 - val_accuracy: 0.8802\n",
      "Epoch 49/100\n",
      "83/83 [==============================] - 0s 2ms/step - loss: 0.2990 - accuracy: 0.8772 - val_loss: 0.3385 - val_accuracy: 0.8802\n",
      "Epoch 50/100\n",
      "83/83 [==============================] - 0s 2ms/step - loss: 0.2982 - accuracy: 0.8791 - val_loss: 0.3384 - val_accuracy: 0.8802\n",
      "Epoch 51/100\n",
      "83/83 [==============================] - 0s 2ms/step - loss: 0.2973 - accuracy: 0.8791 - val_loss: 0.3382 - val_accuracy: 0.8814\n",
      "Epoch 52/100\n",
      "83/83 [==============================] - 0s 2ms/step - loss: 0.2966 - accuracy: 0.8809 - val_loss: 0.3379 - val_accuracy: 0.8825\n",
      "Epoch 53/100\n",
      "83/83 [==============================] - 0s 2ms/step - loss: 0.2957 - accuracy: 0.8809 - val_loss: 0.3377 - val_accuracy: 0.8825\n",
      "Epoch 54/100\n",
      "83/83 [==============================] - 0s 1ms/step - loss: 0.2948 - accuracy: 0.8821 - val_loss: 0.3375 - val_accuracy: 0.8825\n",
      "Epoch 55/100\n",
      "83/83 [==============================] - 0s 1ms/step - loss: 0.2942 - accuracy: 0.8813 - val_loss: 0.3375 - val_accuracy: 0.8825\n",
      "Epoch 56/100\n",
      "83/83 [==============================] - 0s 2ms/step - loss: 0.2935 - accuracy: 0.8828 - val_loss: 0.3372 - val_accuracy: 0.8847\n",
      "Epoch 57/100\n",
      "83/83 [==============================] - 0s 2ms/step - loss: 0.2927 - accuracy: 0.8824 - val_loss: 0.3371 - val_accuracy: 0.8847\n",
      "Epoch 58/100\n",
      "83/83 [==============================] - 0s 1ms/step - loss: 0.2921 - accuracy: 0.8828 - val_loss: 0.3371 - val_accuracy: 0.8836\n",
      "Epoch 59/100\n",
      "83/83 [==============================] - 0s 2ms/step - loss: 0.2914 - accuracy: 0.8832 - val_loss: 0.3368 - val_accuracy: 0.8847\n",
      "Epoch 60/100\n",
      "83/83 [==============================] - 0s 1ms/step - loss: 0.2907 - accuracy: 0.8832 - val_loss: 0.3367 - val_accuracy: 0.8836\n",
      "Epoch 61/100\n",
      "83/83 [==============================] - 0s 1ms/step - loss: 0.2900 - accuracy: 0.8836 - val_loss: 0.3367 - val_accuracy: 0.8836\n",
      "Epoch 62/100\n",
      "83/83 [==============================] - 0s 1ms/step - loss: 0.2893 - accuracy: 0.8832 - val_loss: 0.3367 - val_accuracy: 0.8847\n",
      "Epoch 63/100\n",
      "83/83 [==============================] - 0s 1ms/step - loss: 0.2887 - accuracy: 0.8855 - val_loss: 0.3366 - val_accuracy: 0.8847\n",
      "Epoch 64/100\n",
      "83/83 [==============================] - 0s 2ms/step - loss: 0.2880 - accuracy: 0.8839 - val_loss: 0.3366 - val_accuracy: 0.8847\n",
      "Epoch 65/100\n",
      "83/83 [==============================] - 0s 2ms/step - loss: 0.2873 - accuracy: 0.8873 - val_loss: 0.3365 - val_accuracy: 0.8847\n",
      "Epoch 66/100\n",
      "83/83 [==============================] - 0s 1ms/step - loss: 0.2867 - accuracy: 0.8862 - val_loss: 0.3365 - val_accuracy: 0.8825\n",
      "Epoch 67/100\n",
      "83/83 [==============================] - 0s 2ms/step - loss: 0.2860 - accuracy: 0.8851 - val_loss: 0.3363 - val_accuracy: 0.8836\n",
      "Epoch 68/100\n",
      "83/83 [==============================] - 0s 2ms/step - loss: 0.2855 - accuracy: 0.8855 - val_loss: 0.3365 - val_accuracy: 0.8847\n",
      "Epoch 69/100\n",
      "83/83 [==============================] - 0s 1ms/step - loss: 0.2849 - accuracy: 0.8870 - val_loss: 0.3364 - val_accuracy: 0.8836\n",
      "Epoch 70/100\n",
      "83/83 [==============================] - 0s 2ms/step - loss: 0.2843 - accuracy: 0.8858 - val_loss: 0.3364 - val_accuracy: 0.8859\n",
      "Epoch 71/100\n",
      "83/83 [==============================] - 0s 1ms/step - loss: 0.2837 - accuracy: 0.8862 - val_loss: 0.3363 - val_accuracy: 0.8836\n",
      "Epoch 72/100\n",
      "83/83 [==============================] - 0s 1ms/step - loss: 0.2831 - accuracy: 0.8862 - val_loss: 0.3365 - val_accuracy: 0.8814\n",
      "Epoch 73/100\n",
      "83/83 [==============================] - 0s 1ms/step - loss: 0.2825 - accuracy: 0.8870 - val_loss: 0.3365 - val_accuracy: 0.8802\n",
      "Epoch 74/100\n",
      "83/83 [==============================] - 0s 1ms/step - loss: 0.2820 - accuracy: 0.8881 - val_loss: 0.3364 - val_accuracy: 0.8802\n",
      "Epoch 75/100\n",
      "83/83 [==============================] - 0s 1ms/step - loss: 0.2814 - accuracy: 0.8870 - val_loss: 0.3363 - val_accuracy: 0.8814\n",
      "Epoch 76/100\n",
      "83/83 [==============================] - 0s 2ms/step - loss: 0.2807 - accuracy: 0.8885 - val_loss: 0.3362 - val_accuracy: 0.8825\n",
      "Epoch 77/100\n",
      "83/83 [==============================] - 0s 1ms/step - loss: 0.2802 - accuracy: 0.8877 - val_loss: 0.3364 - val_accuracy: 0.8825\n",
      "Epoch 78/100\n",
      "83/83 [==============================] - 0s 1ms/step - loss: 0.2796 - accuracy: 0.8888 - val_loss: 0.3365 - val_accuracy: 0.8802\n",
      "Epoch 79/100\n",
      "83/83 [==============================] - 0s 1ms/step - loss: 0.2790 - accuracy: 0.8885 - val_loss: 0.3365 - val_accuracy: 0.8791\n",
      "Epoch 80/100\n",
      "83/83 [==============================] - 0s 2ms/step - loss: 0.2783 - accuracy: 0.8877 - val_loss: 0.3366 - val_accuracy: 0.8768\n",
      "Epoch 81/100\n",
      "83/83 [==============================] - 0s 1ms/step - loss: 0.2779 - accuracy: 0.8892 - val_loss: 0.3367 - val_accuracy: 0.8791\n",
      "Epoch 82/100\n",
      "83/83 [==============================] - 0s 2ms/step - loss: 0.2774 - accuracy: 0.8892 - val_loss: 0.3365 - val_accuracy: 0.8814\n",
      "Epoch 83/100\n",
      "83/83 [==============================] - 0s 2ms/step - loss: 0.2768 - accuracy: 0.8896 - val_loss: 0.3365 - val_accuracy: 0.8780\n",
      "Epoch 84/100\n",
      "83/83 [==============================] - 0s 2ms/step - loss: 0.2763 - accuracy: 0.8900 - val_loss: 0.3366 - val_accuracy: 0.8802\n",
      "Epoch 85/100\n",
      "83/83 [==============================] - 0s 2ms/step - loss: 0.2757 - accuracy: 0.8904 - val_loss: 0.3367 - val_accuracy: 0.8791\n",
      "Epoch 86/100\n",
      "83/83 [==============================] - 0s 2ms/step - loss: 0.2753 - accuracy: 0.8900 - val_loss: 0.3368 - val_accuracy: 0.8802\n",
      "Epoch 87/100\n",
      "83/83 [==============================] - 0s 3ms/step - loss: 0.2747 - accuracy: 0.8896 - val_loss: 0.3368 - val_accuracy: 0.8780\n",
      "Epoch 88/100\n",
      "83/83 [==============================] - 0s 2ms/step - loss: 0.2742 - accuracy: 0.8900 - val_loss: 0.3368 - val_accuracy: 0.8780\n",
      "Epoch 89/100\n",
      "83/83 [==============================] - 0s 2ms/step - loss: 0.2738 - accuracy: 0.8904 - val_loss: 0.3369 - val_accuracy: 0.8780\n",
      "Epoch 90/100\n",
      "83/83 [==============================] - 0s 2ms/step - loss: 0.2732 - accuracy: 0.8904 - val_loss: 0.3371 - val_accuracy: 0.8780\n",
      "Epoch 91/100\n",
      "83/83 [==============================] - 0s 2ms/step - loss: 0.2727 - accuracy: 0.8896 - val_loss: 0.3371 - val_accuracy: 0.8768\n",
      "Epoch 92/100\n",
      "83/83 [==============================] - 0s 2ms/step - loss: 0.2722 - accuracy: 0.8904 - val_loss: 0.3371 - val_accuracy: 0.8768\n",
      "Epoch 93/100\n",
      "83/83 [==============================] - 0s 2ms/step - loss: 0.2716 - accuracy: 0.8907 - val_loss: 0.3372 - val_accuracy: 0.8768\n",
      "Epoch 94/100\n",
      "83/83 [==============================] - 0s 2ms/step - loss: 0.2712 - accuracy: 0.8922 - val_loss: 0.3372 - val_accuracy: 0.8780\n",
      "Epoch 95/100\n",
      "83/83 [==============================] - 0s 2ms/step - loss: 0.2706 - accuracy: 0.8922 - val_loss: 0.3374 - val_accuracy: 0.8768\n",
      "Epoch 96/100\n",
      "83/83 [==============================] - 0s 2ms/step - loss: 0.2702 - accuracy: 0.8922 - val_loss: 0.3374 - val_accuracy: 0.8746\n",
      "Epoch 97/100\n",
      "83/83 [==============================] - 0s 2ms/step - loss: 0.2696 - accuracy: 0.8915 - val_loss: 0.3375 - val_accuracy: 0.8746\n",
      "Epoch 98/100\n",
      "83/83 [==============================] - 0s 2ms/step - loss: 0.2690 - accuracy: 0.8941 - val_loss: 0.3375 - val_accuracy: 0.8768\n",
      "Epoch 99/100\n",
      "83/83 [==============================] - 0s 2ms/step - loss: 0.2686 - accuracy: 0.8919 - val_loss: 0.3379 - val_accuracy: 0.8746\n",
      "Epoch 100/100\n",
      "83/83 [==============================] - 0s 2ms/step - loss: 0.2681 - accuracy: 0.8941 - val_loss: 0.3379 - val_accuracy: 0.8757\n"
     ]
    }
   ],
   "source": [
    "history = model.fit(X_train, y_train, epochs=100, validation_data=(X_cv, y_cv))"
   ]
  },
  {
   "cell_type": "code",
   "execution_count": 12,
   "id": "9df6e92a",
   "metadata": {},
   "outputs": [
    {
     "name": "stdout",
     "output_type": "stream",
     "text": [
      "Test loss: 0.339584082365036\n",
      "Test accuracy: 0.8621469140052795\n"
     ]
    }
   ],
   "source": [
    "score = model.evaluate(X_test, y_test, verbose=0)\n",
    "print('Test loss:', score[0])\n",
    "print('Test accuracy:', score[1])"
   ]
  }
 ],
 "metadata": {
  "kernelspec": {
   "display_name": "Python 3 (ipykernel)",
   "language": "python",
   "name": "python3"
  },
  "language_info": {
   "codemirror_mode": {
    "name": "ipython",
    "version": 3
   },
   "file_extension": ".py",
   "mimetype": "text/x-python",
   "name": "python",
   "nbconvert_exporter": "python",
   "pygments_lexer": "ipython3",
   "version": "3.11.3"
  }
 },
 "nbformat": 4,
 "nbformat_minor": 5
}
